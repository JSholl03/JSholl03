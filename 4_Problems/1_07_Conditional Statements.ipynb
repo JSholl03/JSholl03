{
  "cells": [
    {
      "cell_type": "markdown",
      "id": "e3327670",
      "metadata": {
        "id": "e3327670"
      },
      "source": [
        "<a target=\"_blank\" href=\"https://colab.research.google.com/github/lukebarousse/Python_Data_Analytics_Course/blob/main/4_Problems/1_07_Conditional Statements.ipynb\">\n",
        "  <img src=\"https://colab.research.google.com/assets/colab-badge.svg\" alt=\"Open In Colab\"/>\n",
        "</a>"
      ]
    },
    {
      "cell_type": "markdown",
      "id": "2aaa1761",
      "metadata": {
        "id": "2aaa1761"
      },
      "source": [
        "## 🟩 Determine Python Experience (1.7.1)"
      ]
    },
    {
      "cell_type": "code",
      "execution_count": 2,
      "id": "9eaa2dc1",
      "metadata": {
        "id": "9eaa2dc1",
        "outputId": "53bfa140-c7e1-463d-8601-fa63ca1ff576",
        "colab": {
          "base_uri": "https://localhost:8080/"
        }
      },
      "outputs": [
        {
          "output_type": "stream",
          "name": "stdout",
          "text": [
            "Intermediate\n"
          ]
        }
      ],
      "source": [
        "# Code Needed\n",
        "python_experience = 3\n",
        "if python_experience < 2:\n",
        "  skill_level = 'Beginner'\n",
        "else:\n",
        "  skill_level = 'Intermediate'\n",
        "print(skill_level)"
      ]
    },
    {
      "cell_type": "markdown",
      "id": "e5985de7",
      "metadata": {
        "id": "e5985de7"
      },
      "source": [
        "---"
      ]
    },
    {
      "cell_type": "markdown",
      "id": "1d103802",
      "metadata": {
        "id": "1d103802"
      },
      "source": [
        "## 🟨 Determine Job Skill Level (1.7.2)"
      ]
    },
    {
      "cell_type": "code",
      "execution_count": 7,
      "id": "bb543cdd",
      "metadata": {
        "id": "bb543cdd",
        "outputId": "37d7a07e-a523-4ed9-ff2f-7f17d2aa3a01",
        "colab": {
          "base_uri": "https://localhost:8080/"
        }
      },
      "outputs": [
        {
          "output_type": "stream",
          "name": "stdout",
          "text": [
            "Intermediate\n"
          ]
        }
      ],
      "source": [
        "# Code Needed\n",
        "tools_known = 3\n",
        "if tools_known < 3:\n",
        "  skill_level = 'Beginner'\n",
        "elif tools_known < 5:\n",
        "  skill_level = 'Intermediate'\n",
        "else:\n",
        "  skill_level = 'Advanced'\n",
        "\n",
        "print(skill_level)"
      ]
    },
    {
      "cell_type": "markdown",
      "id": "fdf0324b",
      "metadata": {
        "id": "fdf0324b"
      },
      "source": [
        "---"
      ]
    },
    {
      "cell_type": "markdown",
      "id": "847f3e27",
      "metadata": {
        "id": "847f3e27"
      },
      "source": [
        "## 🟥 Determine Job Title (1.7.3)"
      ]
    },
    {
      "cell_type": "code",
      "execution_count": 9,
      "id": "f73925e8",
      "metadata": {
        "id": "f73925e8",
        "outputId": "9dc7f27f-5268-4130-f1fa-1872ffd25e02",
        "colab": {
          "base_uri": "https://localhost:8080/"
        }
      },
      "outputs": [
        {
          "output_type": "stream",
          "name": "stdout",
          "text": [
            "Senior Analyst\n"
          ]
        }
      ],
      "source": [
        "# Code Needed\n",
        "job_experience = 4\n",
        "sql_experience = 2\n",
        "\n",
        "if job_experience < 2:\n",
        "  if sql_experience == 0:\n",
        "    job_title = 'Associate Analyst'\n",
        "  if sql_experience > 0:\n",
        "    job_title = 'Junior Analyst'\n",
        "elif job_experience <= 5:\n",
        "  if sql_experience == 0:\n",
        "    job_title = 'Associate Analyst'\n",
        "  if sql_experience == 1:\n",
        "    job_title = 'Intermediate Analyst'\n",
        "  if sql_experience > 1:\n",
        "    job_title = 'Senior Analyst'\n",
        "else:\n",
        "  if sql_experience <= 2:\n",
        "    job_title = 'Data Analyst'\n",
        "  if sql_experience >= 3:\n",
        "    job_title = 'Lead Analyst'\n",
        "print(job_title)\n"
      ]
    },
    {
      "cell_type": "markdown",
      "id": "5a5189c6",
      "metadata": {
        "id": "5a5189c6"
      },
      "source": [
        "---"
      ]
    }
  ],
  "metadata": {
    "colab": {
      "provenance": []
    },
    "language_info": {
      "name": "python"
    },
    "kernelspec": {
      "name": "python3",
      "display_name": "Python 3"
    }
  },
  "nbformat": 4,
  "nbformat_minor": 5
}