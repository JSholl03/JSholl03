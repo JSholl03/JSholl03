{
  "cells": [
    {
      "cell_type": "markdown",
      "id": "1ecc411a",
      "metadata": {
        "id": "1ecc411a"
      },
      "source": [
        "<a target=\"_blank\" href=\"https://colab.research.google.com/github/lukebarousse/Python_Data_Analytics_Course/blob/main/4_Problems/1_04_Strings.ipynb\">\n",
        "  <img src=\"https://colab.research.google.com/assets/colab-badge.svg\" alt=\"Open In Colab\"/>\n",
        "</a>"
      ]
    },
    {
      "cell_type": "markdown",
      "id": "c03b0f9a",
      "metadata": {
        "id": "c03b0f9a"
      },
      "source": [
        "## 🟩 Convert to Uppercase (1.4.1)"
      ]
    },
    {
      "cell_type": "code",
      "execution_count": 3,
      "id": "ed154db0",
      "metadata": {
        "id": "ed154db0",
        "outputId": "a9b49ff5-e1b3-4c7e-a3fb-434df62482d7",
        "colab": {
          "base_uri": "https://localhost:8080/",
          "height": 35
        }
      },
      "outputs": [
        {
          "output_type": "execute_result",
          "data": {
            "text/plain": [
              "'DATA SCIENTIST'"
            ],
            "application/vnd.google.colaboratory.intrinsic+json": {
              "type": "string"
            }
          },
          "metadata": {},
          "execution_count": 3
        }
      ],
      "source": [
        "# Code Needed\n",
        "job_title = 'data scientist'\n",
        "job_title.upper()"
      ]
    },
    {
      "cell_type": "markdown",
      "id": "352397ff",
      "metadata": {
        "id": "352397ff"
      },
      "source": [
        "---"
      ]
    },
    {
      "cell_type": "markdown",
      "id": "4203b265",
      "metadata": {
        "id": "4203b265"
      },
      "source": [
        "## 🟩 Replace Substring (1.4.2)"
      ]
    },
    {
      "cell_type": "code",
      "execution_count": 4,
      "id": "9088a3fb",
      "metadata": {
        "id": "9088a3fb",
        "outputId": "e1534321-6db1-4b99-d275-7777c7d54ce6",
        "colab": {
          "base_uri": "https://localhost:8080/",
          "height": 35
        }
      },
      "outputs": [
        {
          "output_type": "execute_result",
          "data": {
            "text/plain": [
              "'Data Engineer'"
            ],
            "application/vnd.google.colaboratory.intrinsic+json": {
              "type": "string"
            }
          },
          "metadata": {},
          "execution_count": 4
        }
      ],
      "source": [
        "# Code Needed\n",
        "job_title = 'Data Analyst'\n",
        "job_title.replace('Analyst', 'Engineer')"
      ]
    },
    {
      "cell_type": "markdown",
      "id": "d3b7cb4d",
      "metadata": {
        "id": "d3b7cb4d"
      },
      "source": [
        "---"
      ]
    },
    {
      "cell_type": "markdown",
      "id": "23c6e347",
      "metadata": {
        "id": "23c6e347"
      },
      "source": [
        "## 🟨 Concatenate Strings (1.4.3)"
      ]
    },
    {
      "cell_type": "code",
      "execution_count": 8,
      "id": "1c7fb9f8",
      "metadata": {
        "id": "1c7fb9f8",
        "outputId": "0cf7dc4d-0790-454d-a18a-fcd18497c645",
        "colab": {
          "base_uri": "https://localhost:8080/"
        }
      },
      "outputs": [
        {
          "output_type": "stream",
          "name": "stdout",
          "text": [
            "Senior Data Analyst\n"
          ]
        }
      ],
      "source": [
        "# Code Needed\n",
        "seniority_level = 'Senior'\n",
        "job_title = 'Data Analyst'\n",
        "new_job_title = seniority_level + ' ' + job_title\n",
        "print(new_job_title)"
      ]
    },
    {
      "cell_type": "markdown",
      "id": "cc76f111",
      "metadata": {
        "id": "cc76f111"
      },
      "source": [
        "---"
      ]
    },
    {
      "cell_type": "markdown",
      "id": "ec722767",
      "metadata": {
        "id": "ec722767"
      },
      "source": [
        "## 🟨 Check String Length (1.4.4)"
      ]
    },
    {
      "cell_type": "code",
      "execution_count": 9,
      "id": "9f81d0d5",
      "metadata": {
        "id": "9f81d0d5",
        "outputId": "64e812b6-fa30-40b1-8234-893f029ad919",
        "colab": {
          "base_uri": "https://localhost:8080/"
        }
      },
      "outputs": [
        {
          "output_type": "execute_result",
          "data": {
            "text/plain": [
              "14"
            ]
          },
          "metadata": {},
          "execution_count": 9
        }
      ],
      "source": [
        "# Code Needed\n",
        "job_title = 'Data Scientist'\n",
        "len(job_title)"
      ]
    },
    {
      "cell_type": "markdown",
      "id": "4a8d3a3c",
      "metadata": {
        "id": "4a8d3a3c"
      },
      "source": [
        "---"
      ]
    },
    {
      "cell_type": "markdown",
      "id": "c41c4f1a",
      "metadata": {
        "id": "c41c4f1a"
      },
      "source": [
        "## 🟩 Convert to lowercase (1.4.5)"
      ]
    },
    {
      "cell_type": "code",
      "execution_count": 12,
      "id": "74a3336c",
      "metadata": {
        "id": "74a3336c",
        "outputId": "fc860b8c-e071-4b41-f98b-2a08e6b41696",
        "colab": {
          "base_uri": "https://localhost:8080/"
        }
      },
      "outputs": [
        {
          "output_type": "stream",
          "name": "stdout",
          "text": [
            "data engineer\n"
          ]
        }
      ],
      "source": [
        "# Code Needed\n",
        "job_title = 'DATA ENGINEER'\n",
        "job_title.lower()\n",
        "print(job_title.lower())"
      ]
    },
    {
      "cell_type": "markdown",
      "id": "bfce44ab",
      "metadata": {
        "id": "bfce44ab"
      },
      "source": [
        "---"
      ]
    }
  ],
  "metadata": {
    "colab": {
      "provenance": []
    },
    "language_info": {
      "name": "python"
    },
    "kernelspec": {
      "name": "python3",
      "display_name": "Python 3"
    }
  },
  "nbformat": 4,
  "nbformat_minor": 5
}