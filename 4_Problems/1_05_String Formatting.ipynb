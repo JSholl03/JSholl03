{
  "cells": [
    {
      "cell_type": "markdown",
      "id": "707277df",
      "metadata": {
        "id": "707277df"
      },
      "source": [
        "<a target=\"_blank\" href=\"https://colab.research.google.com/github/lukebarousse/Python_Data_Analytics_Course/blob/main/4_Problems/1_05_String Formatting.ipynb\">\n",
        "  <img src=\"https://colab.research.google.com/assets/colab-badge.svg\" alt=\"Open In Colab\"/>\n",
        "</a>"
      ]
    },
    {
      "cell_type": "markdown",
      "id": "33249ddd",
      "metadata": {
        "id": "33249ddd"
      },
      "source": [
        "## 🟩 Concatenate Strings (1.5.1)"
      ]
    },
    {
      "cell_type": "code",
      "execution_count": 2,
      "id": "f5eb44b1",
      "metadata": {
        "id": "f5eb44b1",
        "outputId": "7b36554b-0046-40ae-b39e-414e585a5b38",
        "colab": {
          "base_uri": "https://localhost:8080/"
        }
      },
      "outputs": [
        {
          "output_type": "stream",
          "name": "stdout",
          "text": [
            "Job Title: Data Scientist\n"
          ]
        }
      ],
      "source": [
        "# Code Needed\n",
        "job_title = 'Data Scientist'\n",
        "new_job_title = 'Job Title: ' + job_title\n",
        "print(new_job_title)"
      ]
    },
    {
      "cell_type": "markdown",
      "id": "ceadadd2",
      "metadata": {
        "id": "ceadadd2"
      },
      "source": [
        "---"
      ]
    },
    {
      "cell_type": "markdown",
      "id": "4b752a3b",
      "metadata": {
        "id": "4b752a3b"
      },
      "source": [
        "## 🟩 Format with f-strings (1.5.2)"
      ]
    },
    {
      "cell_type": "code",
      "execution_count": 3,
      "id": "f1dd6630",
      "metadata": {
        "id": "f1dd6630",
        "outputId": "beb692d7-2235-4ec2-c442-2bc7ab756196",
        "colab": {
          "base_uri": "https://localhost:8080/"
        }
      },
      "outputs": [
        {
          "output_type": "stream",
          "name": "stdout",
          "text": [
            "Data Scientist at DataWiz Inc.\n"
          ]
        }
      ],
      "source": [
        "# Code Needed\n",
        "position = 'Data Scientist'\n",
        "company = 'DataWiz Inc.'\n",
        "position_at_company = f'{position} at {company}'\n",
        "print(position_at_company)"
      ]
    },
    {
      "cell_type": "markdown",
      "id": "f3b9b437",
      "metadata": {
        "id": "f3b9b437"
      },
      "source": [
        "---"
      ]
    },
    {
      "cell_type": "markdown",
      "id": "7ccbfb33",
      "metadata": {
        "id": "7ccbfb33"
      },
      "source": [
        "## 🟩 Format with str.format() (1.5.3)"
      ]
    },
    {
      "cell_type": "code",
      "execution_count": 4,
      "id": "3ad6287a",
      "metadata": {
        "id": "3ad6287a",
        "outputId": "e62fbee0-9334-4f60-dc47-d1b6c516f34b",
        "colab": {
          "base_uri": "https://localhost:8080/"
        }
      },
      "outputs": [
        {
          "output_type": "stream",
          "name": "stdout",
          "text": [
            "Role: Data Analyst, Skill: Python\n"
          ]
        }
      ],
      "source": [
        "# Code Needed\n",
        "role = 'Data Analyst'\n",
        "skill = 'Python'\n",
        "Role_skill = 'Role: {}, Skill: {}'.format(role, skill)\n",
        "print(Role_skill)"
      ]
    },
    {
      "cell_type": "markdown",
      "id": "553e97a6",
      "metadata": {
        "id": "553e97a6"
      },
      "source": [
        "---"
      ]
    },
    {
      "cell_type": "markdown",
      "id": "2539859a",
      "metadata": {
        "id": "2539859a"
      },
      "source": [
        "## 🟨 Format with %-formatting (1.5.4)"
      ]
    },
    {
      "cell_type": "code",
      "execution_count": 5,
      "id": "88cfb9fa",
      "metadata": {
        "id": "88cfb9fa",
        "outputId": "c14f068a-cff0-4c4c-c0f9-349bb0c13f17",
        "colab": {
          "base_uri": "https://localhost:8080/"
        }
      },
      "outputs": [
        {
          "output_type": "stream",
          "name": "stdout",
          "text": [
            "Role: Data Engineer, Skill: SQL\n"
          ]
        }
      ],
      "source": [
        "# Code Needed\n",
        "role = 'Data Engineer'\n",
        "skill = 'SQL'\n",
        "Role_skill = 'Role: %s, Skill: %s' % (role, skill)\n",
        "print(Role_skill)"
      ]
    },
    {
      "cell_type": "markdown",
      "id": "d6081ce3",
      "metadata": {
        "id": "d6081ce3"
      },
      "source": [
        "---"
      ]
    }
  ],
  "metadata": {
    "colab": {
      "provenance": []
    },
    "language_info": {
      "name": "python"
    },
    "kernelspec": {
      "name": "python3",
      "display_name": "Python 3"
    }
  },
  "nbformat": 4,
  "nbformat_minor": 5
}